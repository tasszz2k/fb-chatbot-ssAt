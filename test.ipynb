{
 "cells": [
  {
   "cell_type": "code",
   "execution_count": 1,
   "metadata": {
    "collapsed": true
   },
   "outputs": [
    {
     "name": "stdout",
     "output_type": "stream",
     "text": [
      "Requirement already satisfied: Flask==1.1.1 in /home/tass/anaconda3/envs/Python3.6/lib/python3.6/site-packages (from -r requirements.txt (line 2)) (1.1.1)\r\n",
      "Requirement already satisfied: gunicorn==20.0.4 in /home/tass/anaconda3/envs/Python3.6/lib/python3.6/site-packages (from -r requirements.txt (line 3)) (20.0.4)\r\n",
      "Requirement already satisfied: itsdangerous>=0.24 in /home/tass/anaconda3/envs/Python3.6/lib/python3.6/site-packages (from Flask==1.1.1->-r requirements.txt (line 2)) (1.1.0)\r\n",
      "Requirement already satisfied: Werkzeug>=0.15 in /home/tass/anaconda3/envs/Python3.6/lib/python3.6/site-packages (from Flask==1.1.1->-r requirements.txt (line 2)) (1.0.1)\r\n",
      "Requirement already satisfied: Jinja2>=2.10.1 in /home/tass/anaconda3/envs/Python3.6/lib/python3.6/site-packages (from Flask==1.1.1->-r requirements.txt (line 2)) (2.11.2)\r\n",
      "Requirement already satisfied: click>=5.1 in /home/tass/anaconda3/envs/Python3.6/lib/python3.6/site-packages (from Flask==1.1.1->-r requirements.txt (line 2)) (7.1.2)\r\n",
      "Requirement already satisfied: setuptools>=3.0 in /home/tass/anaconda3/envs/Python3.6/lib/python3.6/site-packages (from gunicorn==20.0.4->-r requirements.txt (line 3)) (51.3.3.post20210118)\r\n",
      "Collecting pymessenger==0.0.7.0\r\n",
      "  Downloading pymessenger-0.0.7.0.tar.gz (3.6 kB)\r\n",
      "Requirement already satisfied: requests in /home/tass/anaconda3/envs/Python3.6/lib/python3.6/site-packages (from pymessenger==0.0.7.0->-r requirements.txt (line 4)) (2.25.1)\r\n",
      "Requirement already satisfied: six in /home/tass/anaconda3/envs/Python3.6/lib/python3.6/site-packages (from pymessenger==0.0.7.0->-r requirements.txt (line 4)) (1.15.0)\r\n",
      "Requirement already satisfied: MarkupSafe>=0.23 in /home/tass/anaconda3/envs/Python3.6/lib/python3.6/site-packages (from Jinja2>=2.10.1->Flask==1.1.1->-r requirements.txt (line 2)) (1.1.1)\r\n",
      "Requirement already satisfied: idna<3,>=2.5 in /home/tass/anaconda3/envs/Python3.6/lib/python3.6/site-packages (from requests->pymessenger==0.0.7.0->-r requirements.txt (line 4)) (2.10)\r\n",
      "Requirement already satisfied: urllib3<1.27,>=1.21.1 in /home/tass/anaconda3/envs/Python3.6/lib/python3.6/site-packages (from requests->pymessenger==0.0.7.0->-r requirements.txt (line 4)) (1.26.2)\r\n",
      "Requirement already satisfied: chardet<5,>=3.0.2 in /home/tass/anaconda3/envs/Python3.6/lib/python3.6/site-packages (from requests->pymessenger==0.0.7.0->-r requirements.txt (line 4)) (4.0.0)\r\n",
      "Requirement already satisfied: certifi>=2017.4.17 in /home/tass/anaconda3/envs/Python3.6/lib/python3.6/site-packages (from requests->pymessenger==0.0.7.0->-r requirements.txt (line 4)) (2020.12.5)\r\n",
      "Collecting requests-toolbelt\r\n",
      "  Downloading requests_toolbelt-0.9.1-py2.py3-none-any.whl (54 kB)\r\n",
      "\u001B[K     |████████████████████████████████| 54 kB 790 kB/s eta 0:00:011\r\n",
      "\u001B[?25hBuilding wheels for collected packages: pymessenger\r\n",
      "  Building wheel for pymessenger (setup.py) ... \u001B[?25l-\b \bdone\r\n",
      "\u001B[?25h  Created wheel for pymessenger: filename=pymessenger-0.0.7.0-py3-none-any.whl size=5128 sha256=aa230a5f83ea3c7a14c46a07ecc4cc70c1c59b497d3751b28ae9d5c006992e28\r\n",
      "  Stored in directory: /home/tass/.cache/pip/wheels/bf/52/d4/5b9d3e084bddb0c402a78d747cb47834fe97a26ae66741bd6d\r\n",
      "Successfully built pymessenger\r\n",
      "Installing collected packages: requests-toolbelt, pymessenger\r\n",
      "Successfully installed pymessenger-0.0.7.0 requests-toolbelt-0.9.1\r\n"
     ]
    }
   ],
   "source": [
    "!pip install -r requirements.txt\n"
   ]
  },
  {
   "cell_type": "code",
   "execution_count": 2,
   "outputs": [],
   "source": [
    "import random\n",
    "from flask import Flask, request\n",
    "from pymessenger.bot import Bot\n"
   ],
   "metadata": {
    "collapsed": false,
    "pycharm": {
     "name": "#%%\n"
    }
   }
  },
  {
   "cell_type": "code",
   "execution_count": null,
   "outputs": [],
   "source": [],
   "metadata": {
    "collapsed": false,
    "pycharm": {
     "name": "#%%\n"
    }
   }
  }
 ],
 "metadata": {
  "kernelspec": {
   "display_name": "Python 3",
   "language": "python",
   "name": "python3"
  },
  "language_info": {
   "codemirror_mode": {
    "name": "ipython",
    "version": 2
   },
   "file_extension": ".py",
   "mimetype": "text/x-python",
   "name": "python",
   "nbconvert_exporter": "python",
   "pygments_lexer": "ipython2",
   "version": "2.7.6"
  }
 },
 "nbformat": 4,
 "nbformat_minor": 0
}